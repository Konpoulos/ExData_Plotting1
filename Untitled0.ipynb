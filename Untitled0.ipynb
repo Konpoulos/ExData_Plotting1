{
  "nbformat": 4,
  "nbformat_minor": 0,
  "metadata": {
    "colab": {
      "name": "Untitled0.ipynb",
      "provenance": [],
      "authorship_tag": "ABX9TyNw+VLRwKrukrG9TLht2rJm",
      "include_colab_link": true
    },
    "kernelspec": {
      "name": "python3",
      "display_name": "Python 3"
    },
    "accelerator": "GPU"
  },
  "cells": [
    {
      "cell_type": "markdown",
      "metadata": {
        "id": "view-in-github",
        "colab_type": "text"
      },
      "source": [
        "<a href=\"https://colab.research.google.com/github/Konpoulos/ExData_Plotting1/blob/master/Untitled0.ipynb\" target=\"_parent\"><img src=\"https://colab.research.google.com/assets/colab-badge.svg\" alt=\"Open In Colab\"/></a>"
      ]
    },
    {
      "cell_type": "code",
      "metadata": {
        "id": "UsF3ydD96K8b"
      },
      "source": [
        "import pandas as pd\n",
        "import numpy as np\n",
        "from sklearn.model_selection import train_test_split\n",
        "from sklearn.feature_extraction.text import CountVectorizer\n",
        "from sklearn.linear_model import LogisticRegression\n",
        "from sklearn.metrics import classification_report\n",
        "from sklearn.feature_extraction.text import TfidfVectorizer\n",
        "from sklearn.metrics import confusion_matrix\n",
        "import random\n",
        "import transformers\n",
        "from transformers import DistilBertTokenizerFast\n",
        "import tensorflow as tf\n",
        "from transformers import TFDistilBertForSequenceClassification\n",
        "from  transformers  import  AutoTokenizer\n",
        "from  transformers  import TFAutoModelForSequenceClassification"
      ],
      "execution_count": 34,
      "outputs": []
    },
    {
      "cell_type": "code",
      "metadata": {
        "id": "FJwqYjdK7r6a"
      },
      "source": [
        "data = pd.read_pickle(\"labeled_tweets.p\")"
      ],
      "execution_count": 6,
      "outputs": []
    },
    {
      "cell_type": "code",
      "metadata": {
        "id": "TTXpXPLu7BDu"
      },
      "source": [
        "!pip install transformers"
      ],
      "execution_count": null,
      "outputs": []
    },
    {
      "cell_type": "code",
      "metadata": {
        "id": "88H5ej9m85b8"
      },
      "source": [
        "X = list(data.text_a.values) # the texts --> X\n",
        "y = list(data.label.values) # the labels we want to predict --> Y\n",
        "labels = ['affirmative', 'negotiated','oppositional']\n",
        "\n",
        "X_train, X_test, y_train, y_test = train_test_split(X, y, test_size=0.2, random_state=1)\n",
        "X_test, X_val, y_test, y_val = train_test_split(X_test, y_test, test_size=0.5, random_state=1)"
      ],
      "execution_count": 39,
      "outputs": []
    },
    {
      "cell_type": "code",
      "metadata": {
        "id": "3H2_0Y92_MA2"
      },
      "source": [
        "tokenizer = DistilBertTokenizerFast.from_pretrained('distilbert-base-uncased')\n",
        "\n",
        "train_encodings = tokenizer(X_train, truncation=True, padding=True, max_length=128) # convert input strings to BERT encodings\n",
        "test_encodings = tokenizer(X_test, truncation=True, padding=True,  max_length=128)\n",
        "val_encodings = tokenizer(X_val, truncation=True, padding=True, max_length=128)\n",
        "\n",
        "train_dataset = tf.data.Dataset.from_tensor_slices((\n",
        "    dict(train_encodings),\n",
        "    y_train\n",
        ")).shuffle(1000).batch(16) # convert the encodings to Tensorflow objects\n",
        "val_dataset = tf.data.Dataset.from_tensor_slices((\n",
        "    dict(val_encodings),\n",
        "    y_val\n",
        ")).batch(64)\n",
        "test_dataset = tf.data.Dataset.from_tensor_slices((\n",
        "    dict(test_encodings),\n",
        "    y_test\n",
        ")).batch(64)"
      ],
      "execution_count": 40,
      "outputs": []
    },
    {
      "cell_type": "markdown",
      "metadata": {
        "id": "qDQk_gqC_wjn"
      },
      "source": [
        "Now we Compile the model"
      ]
    },
    {
      "cell_type": "code",
      "metadata": {
        "id": "llcaVaO3_X9c",
        "outputId": "75643635-680f-4371-8069-1b30d98e8919",
        "colab": {
          "base_uri": "https://localhost:8080/"
        }
      },
      "source": [
        "model = TFDistilBertForSequenceClassification.from_pretrained('distilbert-base-cased',num_labels=len(labels))\n",
        "callbacks = [\n",
        "        tf.keras.callbacks.EarlyStopping(monitor='val_loss', min_delta=0, patience=3, verbose=0, \n",
        "                      mode='min', baseline=None, \n",
        "                      restore_best_weights=True)]\n",
        "\n",
        "optimizer = tf.keras.optimizers.Adam(learning_rate=5e-5)\n",
        "loss = tf.keras.losses.SparseCategoricalCrossentropy(from_logits=True)\n",
        "\n",
        "model.compile(optimizer=optimizer, loss=loss)"
      ],
      "execution_count": 41,
      "outputs": [
        {
          "output_type": "stream",
          "text": [
            "Some layers from the model checkpoint at distilbert-base-cased were not used when initializing TFDistilBertForSequenceClassification: ['vocab_projector', 'vocab_layer_norm', 'activation_13', 'vocab_transform']\n",
            "- This IS expected if you are initializing TFDistilBertForSequenceClassification from the checkpoint of a model trained on another task or with another architecture (e.g. initializing a BertForSequenceClassification model from a BertForPreTraining model).\n",
            "- This IS NOT expected if you are initializing TFDistilBertForSequenceClassification from the checkpoint of a model that you expect to be exactly identical (initializing a BertForSequenceClassification model from a BertForSequenceClassification model).\n",
            "Some layers of TFDistilBertForSequenceClassification were not initialized from the model checkpoint at distilbert-base-cased and are newly initialized: ['pre_classifier', 'classifier', 'dropout_77']\n",
            "You should probably TRAIN this model on a down-stream task to be able to use it for predictions and inference.\n"
          ],
          "name": "stderr"
        }
      ]
    },
    {
      "cell_type": "code",
      "metadata": {
        "id": "F8BJj130_51m",
        "outputId": "cdd41fff-f94e-4feb-dcdc-f64952ee0535",
        "colab": {
          "base_uri": "https://localhost:8080/"
        }
      },
      "source": [
        "model.fit(train_dataset, \n",
        "            epochs=10,\n",
        "          callbacks=callbacks, \n",
        "          validation_data=val_dataset,\n",
        "           batch_size=16)"
      ],
      "execution_count": 42,
      "outputs": [
        {
          "output_type": "stream",
          "text": [
            "Epoch 1/10\n",
            "145/145 [==============================] - 35s 241ms/step - loss: 0.9216 - val_loss: 0.8805\n",
            "Epoch 2/10\n",
            "145/145 [==============================] - 33s 225ms/step - loss: 0.8859 - val_loss: 0.8820\n",
            "Epoch 3/10\n",
            "145/145 [==============================] - 33s 227ms/step - loss: 0.8436 - val_loss: 0.8685\n",
            "Epoch 4/10\n",
            "145/145 [==============================] - 33s 227ms/step - loss: 0.7409 - val_loss: 0.9026\n",
            "Epoch 5/10\n",
            "145/145 [==============================] - 33s 226ms/step - loss: 0.5478 - val_loss: 0.9934\n",
            "Epoch 6/10\n",
            "145/145 [==============================] - 33s 227ms/step - loss: 0.3729 - val_loss: 1.4913\n"
          ],
          "name": "stdout"
        },
        {
          "output_type": "execute_result",
          "data": {
            "text/plain": [
              "<tensorflow.python.keras.callbacks.History at 0x7fb7d0426c50>"
            ]
          },
          "metadata": {
            "tags": []
          },
          "execution_count": 42
        }
      ]
    },
    {
      "cell_type": "code",
      "metadata": {
        "id": "spUfzM_KAtAl",
        "outputId": "007ef6a2-545f-416c-8a05-0aa42b3e5877",
        "colab": {
          "base_uri": "https://localhost:8080/"
        }
      },
      "source": [
        "logits = model.predict(test_dataset)\n",
        "y_preds = np.argmax(logits[0], axis=1)\n",
        "print(classification_report(y_test, y_preds))\n"
      ],
      "execution_count": 43,
      "outputs": [
        {
          "output_type": "stream",
          "text": [
            "              precision    recall  f1-score   support\n",
            "\n",
            "           0       0.57      0.58      0.57       116\n",
            "           1       0.61      0.70      0.65       147\n",
            "           2       0.00      0.00      0.00        25\n",
            "\n",
            "    accuracy                           0.59       288\n",
            "   macro avg       0.39      0.43      0.41       288\n",
            "weighted avg       0.54      0.59      0.56       288\n",
            "\n"
          ],
          "name": "stdout"
        },
        {
          "output_type": "stream",
          "text": [
            "/usr/local/lib/python3.6/dist-packages/sklearn/metrics/_classification.py:1272: UndefinedMetricWarning: Precision and F-score are ill-defined and being set to 0.0 in labels with no predicted samples. Use `zero_division` parameter to control this behavior.\n",
            "  _warn_prf(average, modifier, msg_start, len(result))\n"
          ],
          "name": "stderr"
        }
      ]
    },
    {
      "cell_type": "code",
      "metadata": {
        "id": "RKtkxm0RMnOT",
        "outputId": "a8656419-a4ea-42a4-f51f-339d94e7ba18",
        "colab": {
          "base_uri": "https://localhost:8080/"
        }
      },
      "source": [
        "print(confusion_matrix(y_test, y_preds))"
      ],
      "execution_count": 44,
      "outputs": [
        {
          "output_type": "stream",
          "text": [
            "[[ 67  49   0]\n",
            " [ 44 103   0]\n",
            " [  7  18   0]]\n"
          ],
          "name": "stdout"
        }
      ]
    },
    {
      "cell_type": "markdown",
      "metadata": {
        "id": "M9UH4DuGCTu2"
      },
      "source": [
        "we do have a slitly better f1-score for negotiated to 0.65 but other than that not much of a change\n"
      ]
    },
    {
      "cell_type": "markdown",
      "metadata": {
        "id": "G_iT_wDGDX17"
      },
      "source": [
        "2.2  Use  of  BERTweet"
      ]
    },
    {
      "cell_type": "code",
      "metadata": {
        "id": "Nil4u6_3BrGl",
        "outputId": "5b9a8aa1-d107-4039-87fc-d8bf7ec57ce0",
        "colab": {
          "base_uri": "https://localhost:8080/"
        }
      },
      "source": [
        "!pip install emoji"
      ],
      "execution_count": 45,
      "outputs": [
        {
          "output_type": "stream",
          "text": [
            "Requirement already satisfied: emoji in /usr/local/lib/python3.6/dist-packages (0.6.0)\n"
          ],
          "name": "stdout"
        }
      ]
    },
    {
      "cell_type": "code",
      "metadata": {
        "id": "TrtgdwSuM-ZJ"
      },
      "source": [
        "X = list(data.text_a.values) # the texts --> X\n",
        "y = list(data.label.values) # the labels we want to predict --> Y\n",
        "labels = ['affirmative', 'negotiated','oppositional']\n",
        "\n",
        "X_train, X_test, y_train, y_test = train_test_split(X, y, test_size=0.2, random_state=1)\n",
        "X_test, X_val, y_test, y_val = train_test_split(X_test, y_test, test_size=0.5, random_state=1)"
      ],
      "execution_count": 46,
      "outputs": []
    },
    {
      "cell_type": "code",
      "metadata": {
        "id": "Q4FGrp6EE9XE",
        "outputId": "9d452544-0127-4805-8b7a-519937dd60f6",
        "colab": {
          "base_uri": "https://localhost:8080/"
        }
      },
      "source": [
        "tokenizer = AutoTokenizer.from_pretrained('vinai/bertweet-base' , normalization=True)\n",
        "train_encodings = tokenizer(X_train, truncation=True, padding=True, max_length=128) # convert input strings to BERT encodings\n",
        "test_encodings = tokenizer(X_test, truncation=True, padding=True,  max_length=128)\n",
        "val_encodings = tokenizer(X_val, truncation=True, padding=True, max_length=128)\n",
        "\n",
        "train_dataset = tf.data.Dataset.from_tensor_slices((\n",
        "    dict(train_encodings),\n",
        "    y_train\n",
        ")).shuffle(1000).batch(16) # convert the encodings to Tensorflow objects\n",
        "val_dataset = tf.data.Dataset.from_tensor_slices((\n",
        "    dict(val_encodings),\n",
        "    y_val\n",
        ")).batch(64)\n",
        "test_dataset = tf.data.Dataset.from_tensor_slices((\n",
        "    dict(test_encodings),\n",
        "    y_test\n",
        ")).batch(64)\n",
        "\n",
        "\n"
      ],
      "execution_count": 47,
      "outputs": [
        {
          "output_type": "stream",
          "text": [
            "Special tokens have been added in the vocabulary, make sure the associated word embedding are fine-tuned or trained.\n"
          ],
          "name": "stderr"
        }
      ]
    },
    {
      "cell_type": "markdown",
      "metadata": {
        "id": "pO2-pCr9I08x"
      },
      "source": [
        "We now compile the model"
      ]
    },
    {
      "cell_type": "code",
      "metadata": {
        "id": "smT5fJhZHUfv",
        "outputId": "4af2d602-47cb-4bbf-8978-f6ac080c82f9",
        "colab": {
          "base_uri": "https://localhost:8080/"
        }
      },
      "source": [
        "model = TFAutoModelForSequenceClassification.from_pretrained('vinai/bertweet-base', num_labels=len(labels))\n",
        "callbacks = [\n",
        "        tf.keras.callbacks.EarlyStopping(monitor='val_loss', min_delta=0, patience=3, verbose=0, \n",
        "                      mode='min', baseline=None, \n",
        "                      restore_best_weights=True)]\n",
        "\n",
        "optimizer = tf.keras.optimizers.Adam(learning_rate=5e-5)\n",
        "loss = tf.keras.losses.SparseCategoricalCrossentropy(from_logits=True)\n",
        "\n",
        "model.compile(optimizer=optimizer, loss=loss)"
      ],
      "execution_count": 48,
      "outputs": [
        {
          "output_type": "stream",
          "text": [
            "Some layers from the model checkpoint at vinai/bertweet-base were not used when initializing TFRobertaForSequenceClassification: ['lm_head']\n",
            "- This IS expected if you are initializing TFRobertaForSequenceClassification from the checkpoint of a model trained on another task or with another architecture (e.g. initializing a BertForSequenceClassification model from a BertForPreTraining model).\n",
            "- This IS NOT expected if you are initializing TFRobertaForSequenceClassification from the checkpoint of a model that you expect to be exactly identical (initializing a BertForSequenceClassification model from a BertForSequenceClassification model).\n",
            "Some layers of TFRobertaForSequenceClassification were not initialized from the model checkpoint at vinai/bertweet-base and are newly initialized: ['classifier']\n",
            "You should probably TRAIN this model on a down-stream task to be able to use it for predictions and inference.\n"
          ],
          "name": "stderr"
        }
      ]
    },
    {
      "cell_type": "markdown",
      "metadata": {
        "id": "EkEIdaIMJLtw"
      },
      "source": [
        "Train the model "
      ]
    },
    {
      "cell_type": "code",
      "metadata": {
        "id": "Dnq591wPI_Jd",
        "outputId": "0785a273-ecc3-4d60-b766-bb7fad44f7b3",
        "colab": {
          "base_uri": "https://localhost:8080/"
        }
      },
      "source": [
        "model.roberta.return_dict = False\n",
        "model.fit(train_dataset, \n",
        "            epochs=10,\n",
        "          callbacks=callbacks, \n",
        "          validation_data=val_dataset,\n",
        "           batch_size=16)"
      ],
      "execution_count": 49,
      "outputs": [
        {
          "output_type": "stream",
          "text": [
            "Epoch 1/10\n",
            "WARNING:tensorflow:Gradients do not exist for variables ['tf_roberta_for_sequence_classification_1/roberta/pooler/dense/kernel:0', 'tf_roberta_for_sequence_classification_1/roberta/pooler/dense/bias:0'] when minimizing the loss.\n",
            "WARNING:tensorflow:Gradients do not exist for variables ['tf_roberta_for_sequence_classification_1/roberta/pooler/dense/kernel:0', 'tf_roberta_for_sequence_classification_1/roberta/pooler/dense/bias:0'] when minimizing the loss.\n",
            "WARNING:tensorflow:Gradients do not exist for variables ['tf_roberta_for_sequence_classification_1/roberta/pooler/dense/kernel:0', 'tf_roberta_for_sequence_classification_1/roberta/pooler/dense/bias:0'] when minimizing the loss.\n",
            "WARNING:tensorflow:Gradients do not exist for variables ['tf_roberta_for_sequence_classification_1/roberta/pooler/dense/kernel:0', 'tf_roberta_for_sequence_classification_1/roberta/pooler/dense/bias:0'] when minimizing the loss.\n",
            "145/145 [==============================] - 68s 471ms/step - loss: 0.9020 - val_loss: 0.9753\n",
            "Epoch 2/10\n",
            "145/145 [==============================] - 66s 454ms/step - loss: 0.8629 - val_loss: 0.8242\n",
            "Epoch 3/10\n",
            "145/145 [==============================] - 65s 451ms/step - loss: 0.7905 - val_loss: 0.7975\n",
            "Epoch 4/10\n",
            "145/145 [==============================] - 65s 448ms/step - loss: 0.6915 - val_loss: 0.9590\n",
            "Epoch 5/10\n",
            "145/145 [==============================] - 65s 449ms/step - loss: 0.5436 - val_loss: 1.1634\n",
            "Epoch 6/10\n",
            "145/145 [==============================] - 65s 451ms/step - loss: 0.3951 - val_loss: 1.1452\n"
          ],
          "name": "stdout"
        },
        {
          "output_type": "execute_result",
          "data": {
            "text/plain": [
              "<tensorflow.python.keras.callbacks.History at 0x7fb6c7faa1d0>"
            ]
          },
          "metadata": {
            "tags": []
          },
          "execution_count": 49
        }
      ]
    },
    {
      "cell_type": "markdown",
      "metadata": {
        "id": "jCKe9fooLrAN"
      },
      "source": [
        "We evaluate the model now"
      ]
    },
    {
      "cell_type": "code",
      "metadata": {
        "id": "kDkOxJ45KSwl",
        "outputId": "1b553423-d789-42e8-837a-fa32eebf6c0b",
        "colab": {
          "base_uri": "https://localhost:8080/"
        }
      },
      "source": [
        "logits = model.predict(test_dataset)\n",
        "y_preds = np.argmax(logits[0], axis=1)\n",
        "print(classification_report(y_test, y_preds))"
      ],
      "execution_count": 50,
      "outputs": [
        {
          "output_type": "stream",
          "text": [
            "              precision    recall  f1-score   support\n",
            "\n",
            "           0       0.56      0.73      0.63       116\n",
            "           1       0.63      0.58      0.60       147\n",
            "           2       0.00      0.00      0.00        25\n",
            "\n",
            "    accuracy                           0.59       288\n",
            "   macro avg       0.40      0.44      0.41       288\n",
            "weighted avg       0.55      0.59      0.56       288\n",
            "\n"
          ],
          "name": "stdout"
        },
        {
          "output_type": "stream",
          "text": [
            "/usr/local/lib/python3.6/dist-packages/sklearn/metrics/_classification.py:1272: UndefinedMetricWarning: Precision and F-score are ill-defined and being set to 0.0 in labels with no predicted samples. Use `zero_division` parameter to control this behavior.\n",
            "  _warn_prf(average, modifier, msg_start, len(result))\n"
          ],
          "name": "stderr"
        }
      ]
    },
    {
      "cell_type": "markdown",
      "metadata": {
        "id": "HaSWz8_AL-6d"
      },
      "source": [
        "We have a better result for 0 but worst for 1  "
      ]
    },
    {
      "cell_type": "code",
      "metadata": {
        "id": "GLPEG2jiLuFu",
        "outputId": "a03dadbb-35b3-41c1-d154-cd05d1811a59",
        "colab": {
          "base_uri": "https://localhost:8080/"
        }
      },
      "source": [
        "print(confusion_matrix(y_test, y_preds))"
      ],
      "execution_count": 52,
      "outputs": [
        {
          "output_type": "stream",
          "text": [
            "[[85 31  0]\n",
            " [62 85  0]\n",
            " [ 6 19  0]]\n"
          ],
          "name": "stdout"
        }
      ]
    },
    {
      "cell_type": "markdown",
      "metadata": {
        "id": "xIFgokfuVOIu"
      },
      "source": [
        ""
      ]
    },
    {
      "cell_type": "code",
      "metadata": {
        "id": "WbXxAZ-RMbXX"
      },
      "source": [
        ""
      ],
      "execution_count": null,
      "outputs": []
    }
  ]
}